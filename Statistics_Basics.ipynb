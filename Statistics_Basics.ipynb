{
  "nbformat": 4,
  "nbformat_minor": 0,
  "metadata": {
    "colab": {
      "provenance": [],
      "authorship_tag": "ABX9TyORszXNpEUl7QDKNoJlMY7e",
      "include_colab_link": true
    },
    "kernelspec": {
      "name": "python3",
      "display_name": "Python 3"
    },
    "language_info": {
      "name": "python"
    }
  },
  "cells": [
    {
      "cell_type": "markdown",
      "metadata": {
        "id": "view-in-github",
        "colab_type": "text"
      },
      "source": [
        "<a href=\"https://colab.research.google.com/github/gouravkumargd79/Statistics_Basics/blob/main/Statistics_Basics.ipynb\" target=\"_parent\"><img src=\"https://colab.research.google.com/assets/colab-badge.svg\" alt=\"Open In Colab\"/></a>"
      ]
    },
    {
      "cell_type": "code",
      "execution_count": null,
      "metadata": {
        "id": "ugwFT2FXQjOy"
      },
      "outputs": [],
      "source": [
        "# Q1. Explain the different types of data (qualitative and quantitative) and provide examples of each. Discuss nominal, ordinal, interval, and ratio scales.\n",
        "\n",
        "'''Qualitative Data (Categorical Data):\n",
        "Data that can be classified into categories but not measured numerically.\n",
        "Examples:\n",
        "Nominal data: Categories without any order or ranking (e.g., gender, color of cars).\n",
        "Ordinal data: Categories with a meaningful order but no precise difference between categories (e.g., rankings in a race: 1st, 2nd, 3rd, etc.).\n",
        "Quantitative Data (Numerical Data):\n",
        "Data that can be measured and expressed in numbers. It is divided into two types:\n",
        "Interval Data: Data with meaningful intervals but no true zero point (e.g., temperature in Celsius or Fahrenheit).\n",
        "Ratio Data: Data with a true zero point, allowing for comparisons of absolute magnitude (e.g., height, weight, income).'''"
      ]
    },
    {
      "cell_type": "code",
      "source": [
        "# Q2. What are the measures of central tendency, and when should you use each? Discuss the mean, median, and mode with examples and situations where each is appropriate.\n",
        "\n",
        "'''Measures of Central Tendency\n",
        "Mean: The arithmetic average. It is calculated by summing all values and dividing by the number of values.\n",
        "\n",
        "Use: When data is symmetrically distributed without extreme values.\n",
        "Example: The average income of a group of people.\n",
        "Median: The middle value when data is ordered from least to greatest.\n",
        "\n",
        "Use: Useful when there are outliers or skewed data that could distort the mean.\n",
        "Example: Median house prices in a neighborhood to avoid influence from outliers like multimillion-dollar homes.\n",
        "Mode: The value that appears most frequently.\n",
        "\n",
        "Use: Best for categorical data or when identifying the most common value.\n",
        "Example: The most common car color in a survey of car owners.'''"
      ],
      "metadata": {
        "id": "piZmcnLERCU5"
      },
      "execution_count": null,
      "outputs": []
    },
    {
      "cell_type": "code",
      "source": [
        "# Q3. Explain the concept of dispersion. How do variance and standard deviation measure the spread of data?\n",
        "\n",
        "'''Dispersion: Variance and Standard Deviation\n",
        "Dispersion refers to how spread out the values in a data set are. It helps to understand the variability.\n",
        "Variance: The average squared deviation from the mean.\n",
        "Formula: Variance =\n",
        "∑(𝑥𝑖−𝜇)2𝑁N∑(x i −μ) 2\n",
        "\n",
        "Standard Deviation: The square root of the variance. It provides a measure in the same unit as the data.\n",
        "Formula: Standard Deviation =\n",
        "Variance\n",
        "Variance\n",
        "​\n",
        "\n",
        "Interpretation: A higher standard deviation indicates that data points are more spread out from the mean.'''"
      ],
      "metadata": {
        "id": "idq3I2k5RN_N"
      },
      "execution_count": null,
      "outputs": []
    },
    {
      "cell_type": "code",
      "source": [
        "# Q4. What is a box plot, and what can it tell you about the distribution of data?\n",
        "\n",
        "'''Box Plot\n",
        "A box plot (or box-and-whisker plot) visually displays the distribution of a data set. It shows:\n",
        "The median (middle value).\n",
        "The lower and upper quartiles (Q1 and Q3), indicating the spread of the middle 50% of the data.\n",
        "The \"whiskers\" represent the range (minimum and maximum values within 1.5 IQR).\n",
        "Outliers are points outside the whiskers (more than 1.5 times the interquartile range).\n",
        "What it tells: It provides insight into data symmetry, central tendency, spread, and potential outliers.'''"
      ],
      "metadata": {
        "id": "OlFbTJ-FRQ50"
      },
      "execution_count": null,
      "outputs": []
    },
    {
      "cell_type": "code",
      "source": [
        "# Q5. Discuss the role of random sampling in making inferences about populations.\n",
        "\n",
        "'''Role of Random Sampling in Making Inferences\n",
        "Random sampling is the process of selecting a sample from a population such that every member has an equal chance of being chosen.\n",
        "Role in inference: Random sampling allows for generalization about the population based on sample data. It reduces biases, providing a representative sample that helps make valid inferences about population parameters (mean, proportion, etc.).'''"
      ],
      "metadata": {
        "id": "ww-9hxgbRTTX"
      },
      "execution_count": null,
      "outputs": []
    },
    {
      "cell_type": "code",
      "source": [
        "# Q6. Explain the concept of skewness and its types. How does skewness affect the interpretation of data?\n",
        "\n",
        "'''Concept of Skewness\n",
        "Skewness describes the asymmetry of a distribution:\n",
        "Positive skew (Right skew): Tail is on the right, meaning most data points are clustered on the left.\n",
        "Negative skew (Left skew): Tail is on the left, meaning most data points are clustered on the right.\n",
        "Impact: Skewness affects the interpretation of central tendency. For example, in a positively skewed distribution, the mean will be greater than the median.'''"
      ],
      "metadata": {
        "id": "lTn4nFYmRVoV"
      },
      "execution_count": null,
      "outputs": []
    },
    {
      "cell_type": "code",
      "source": [
        "# Q7. What is the interquartile range (IQR), and how is it used to detect outliers?\n",
        "\n",
        "'''Interquartile Range (IQR) and Outliers\n",
        "IQR: The difference between the 75th percentile (Q3) and the 25th percentile (Q1).\n",
        "Formula: IQR = Q3 - Q1.\n",
        "Use for detecting outliers:\n",
        "An outlier is typically defined as any value that is more than 1.5 times the IQR above Q3 or below Q1.\n",
        "Outlier threshold:\n",
        "Lower threshold:\n",
        "𝑄1−1.5×IQR\n",
        "Q1−1.5×IQR\n",
        "Upper threshold: 𝑄3+1.5×IQR\n",
        "Q3+1.5×IQR\n",
        "'''"
      ],
      "metadata": {
        "id": "VgR4rDQdRXN1"
      },
      "execution_count": null,
      "outputs": []
    },
    {
      "cell_type": "code",
      "source": [
        "# Q8. Discuss the conditions under which the binomial distribution is used.\n",
        "\n",
        "'''Binomial Distribution Conditions\n",
        "The binomial distribution is used when:\n",
        "\n",
        "There are exactly two possible outcomes (success or failure).\n",
        "The probability of success is constant across trials.\n",
        "Each trial is independent.\n",
        "The number of trials is fixed.\n",
        "Example: Flipping a coin 10 times, where you want to calculate the probability of getting 6 heads.'''"
      ],
      "metadata": {
        "id": "2kw7puWcRY4u"
      },
      "execution_count": null,
      "outputs": []
    },
    {
      "cell_type": "code",
      "source": [
        "# Q9. Explain the properties of the normal distribution and the empirical rule (68-95-99.7 rule).\n",
        "\n",
        "'''Normal Distribution and the Empirical Rule\n",
        "Normal Distribution: A symmetric, bell-shaped distribution where most values cluster around the mean.\n",
        "Properties:\n",
        "Mean = Median = Mode.\n",
        "The spread is characterized by standard deviation.\n",
        "Empirical Rule (68-95-99.7 Rule): In a normal distribution:\n",
        "68% of the data falls within 1 standard deviation from the mean.\n",
        "95% falls within 2 standard deviations.\n",
        "99.7% falls within 3 standard deviations.'''"
      ],
      "metadata": {
        "id": "c8_5IFrJRaOI"
      },
      "execution_count": null,
      "outputs": []
    },
    {
      "cell_type": "code",
      "source": [
        "# Q10. Provide a real-life example of a Poisson process and calculate the probability for a specific event.\n",
        "\n",
        "'''Poisson Process and Probability Calculation\n",
        "A Poisson process is used to model the number of events occurring within a fixed interval of time or space, where the events happen independently.\n",
        "Example: The number of cars passing through a toll booth every 10 minutes.\n",
        "Poisson Distribution Formula:\n",
        "𝑃(𝑋=𝑘)=𝜆𝑘𝑒−𝜆𝑘!\n",
        "P(X=k)= k!λ ke −λ\n",
        "\n",
        "where\n",
        "𝜆\n",
        "λ is the average number of events in the given time frame, and\n",
        "𝑘\n",
        "k is the number of occurrences.\n",
        "Probability Calculation: Calculate the probability of observing 3 cars passing through in a 10-minute window if\n",
        "𝜆=4\n",
        "λ=4.'''"
      ],
      "metadata": {
        "id": "RwO_ltOXRb48"
      },
      "execution_count": null,
      "outputs": []
    },
    {
      "cell_type": "code",
      "source": [
        "# Q11. Explain what a random variable is and differentiate between discrete and continuous random variables.\n",
        "\n",
        "'''Random Variables: Discrete vs Continuous\n",
        "Random Variable: A variable that takes on different values based on the outcome of a random process.\n",
        "Discrete Random Variable: Takes on a finite or countable number of distinct values (e.g., number of heads in coin flips).\n",
        "Continuous Random Variable: Takes on an infinite number of values within a given range (e.g., height, time, temperature).'''"
      ],
      "metadata": {
        "id": "F0Bh9up7RdRA"
      },
      "execution_count": null,
      "outputs": []
    },
    {
      "cell_type": "code",
      "source": [
        "# Q12. Provide an example dataset, calculate both covariance and correlation, and interpret the results.\n",
        "\n",
        "'''Covariance measures the degree to which two variables change together. It can be positive, negative, or zero.\n",
        "Formula:\n",
        "Cov(𝑋,𝑌)=∑(𝑥𝑖−𝑥ˉ)(𝑦𝑖−𝑦ˉ)𝑁\n",
        "Cov(X,Y)= N\n",
        "∑(x i − xˉ)(y i​ − yˉ )\n",
        "​\n",
        "\n",
        "Interpretation: Positive covariance indicates that both variables increase together, while negative covariance indicates that one increases as the other decreases.\n",
        "Correlation is the standardized version of covariance, ranging from -1 to 1.\n",
        "Formula:\n",
        "𝑟=Cov(𝑋,𝑌)𝜎𝑋𝜎𝑌\n",
        "r= σ X σ Y\n",
        "​Cov(X,Y)\n",
        "Interpretation: Correlation of 1 means a perfect positive linear relationship, -1 means a perfect negative relationship, and 0 means no linear relationship.\n",
        "Example: A dataset of hours studied and exam scores. If covariance is positive and correlation is high (close to 1), it indicates a strong positive relationship between study time and score.'''"
      ],
      "metadata": {
        "id": "qS1jPFYVRevu"
      },
      "execution_count": null,
      "outputs": []
    }
  ]
}